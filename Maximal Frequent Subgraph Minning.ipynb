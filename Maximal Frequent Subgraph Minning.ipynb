{
 "cells": [
  {
   "cell_type": "code",
   "execution_count": null,
   "metadata": {},
   "outputs": [],
   "source": [
    "import networkx as nx\n",
    "import numpy as np\n",
    "import os"
   ]
  },
  {
   "cell_type": "code",
   "execution_count": null,
   "metadata": {},
   "outputs": [],
   "source": [
    "def read_graph_corpus(path, label_center_path=None):\n",
    "    graphs = []\n",
    "    label_center = open(label_center_path, 'r', encoding='utf-8')\n",
    "    label_centers = []\n",
    "    with open(path, 'r', encoding='utf-8') as file:\n",
    "        nodes = {}\n",
    "        edges = {}\n",
    "        for line in file:\n",
    "            if 't' in line:\n",
    "                if len(nodes) > 0:\n",
    "                    graphs.append((nodes, edges))\n",
    "                    if len(graphs) > 9:\n",
    "                        break\n",
    "                nodes = {}\n",
    "                edges = {}\n",
    "            if 'v' in line:\n",
    "                data_line = line.split()\n",
    "                node_id = int(data_line[1])\n",
    "                node_label = int(data_line[2])\n",
    "                nodes[node_id] = node_label\n",
    "            if 'e' in line:\n",
    "                data_line = line.split()\n",
    "                source_id = int(data_line[1])\n",
    "                target_id = int(data_line[2])\n",
    "                label = int(data_line[3])\n",
    "                edges[(source_id, target_id)] = label\n",
    "    return graphs"
   ]
  },
  {
   "cell_type": "code",
   "execution_count": null,
   "metadata": {},
   "outputs": [],
   "source": [
    "graphs = read_graph_corpus('mico.outx', 'mico.outxatt_label_center')"
   ]
  },
  {
   "cell_type": "code",
   "execution_count": null,
   "metadata": {},
   "outputs": [],
   "source": [
    "def get_set_frequent_edges(graphs):\n",
    "    label_dicts = dict()\n",
    "    all_label_dict = dict()\n",
    "    pattern_graph = dict()\n",
    "    for i, graph in enumerate(graphs):\n",
    "        label_dict = dict()\n",
    "        edges = graph[1]\n",
    "        nodes = graph[0]\n",
    "        for key, value in edges.items():\n",
    "            src = key[0]\n",
    "            trg = key[1]\n",
    "            this_value1 = \"{}${}_{}$#\".format(nodes[src], value, nodes[trg])\n",
    "            this_value2 = \"{}${}_{}$#\".format(nodes[trg], value, nodes[src])\n",
    "            if this_value1 not in label_dict:\n",
    "                if this_value1 in all_label_dict:\n",
    "                    all_label_dict[this_value1] += 1\n",
    "                    pattern_graph[this_value1].append(i)\n",
    "                else:\n",
    "                    all_label_dict[this_value1] = 1\n",
    "                    pattern_graph[this_value1] = [i]\n",
    "                label_dict[this_value1] = set([key])\n",
    "            else:\n",
    "                label_dict[this_value1].add(key)\n",
    "            \n",
    "            if this_value2 not in label_dict:\n",
    "                if this_value2 in all_label_dict:\n",
    "                    all_label_dict[this_value2] += 1\n",
    "                    pattern_graph[this_value2].append(i)\n",
    "                else:\n",
    "                    all_label_dict[this_value2] = 1\n",
    "                    pattern_graph[this_value2] = [i]\n",
    "                label_dict[this_value2] = set([key])\n",
    "            else:\n",
    "                label_dict[this_value2].add(key)\n",
    "            \n",
    "        label_dicts[i] = label_dict\n",
    "    return label_dicts, all_label_dict, pattern_graph\n",
    "    "
   ]
  },
  {
   "cell_type": "code",
   "execution_count": null,
   "metadata": {},
   "outputs": [],
   "source": [
    "label_dicts, all_label_dict, pattern_graph = get_set_frequent_edges(graphs)"
   ]
  },
  {
   "cell_type": "code",
   "execution_count": null,
   "metadata": {},
   "outputs": [],
   "source": [
    "pattern_graph"
   ]
  },
  {
   "cell_type": "code",
   "execution_count": null,
   "metadata": {},
   "outputs": [],
   "source": [
    "def grow_tree(this_nx_graph, this_graph_pattern_tree):\n",
    "    # this_graph_pattern_tree: pattern - set(tree)\n",
    "    \n",
    "    for node in this_tree"
   ]
  },
  {
   "cell_type": "code",
   "execution_count": null,
   "metadata": {},
   "outputs": [],
   "source": [
    "def generic_tree_explorer(label_dicts, all_label_dict, pattern_graph):\n",
    "    # label_dicts: graph - pattern - tree cua graph dang duoc xem xet\n",
    "    #\n",
    "    Q = set()\n",
    "    for i, X in C.items():\n",
    "        S = grow_tree(X)"
   ]
  },
  {
   "cell_type": "code",
   "execution_count": null,
   "metadata": {},
   "outputs": [],
   "source": [
    "def maximal_subgraph_mining(graphs):\n",
    "    label_dicts, all_label_dict, pattern_graph = get_set_frequent_edges(graphs)\n",
    "    generic_tree_explorer(label_dicts, all_label_dict, pattern_graph)\n",
    "    \n",
    "    "
   ]
  },
  {
   "cell_type": "code",
   "execution_count": null,
   "metadata": {},
   "outputs": [],
   "source": []
  }
 ],
 "metadata": {
  "kernelspec": {
   "display_name": "Python 3",
   "language": "python",
   "name": "python3"
  },
  "language_info": {
   "codemirror_mode": {
    "name": "ipython",
    "version": 3
   },
   "file_extension": ".py",
   "mimetype": "text/x-python",
   "name": "python",
   "nbconvert_exporter": "python",
   "pygments_lexer": "ipython3",
   "version": "3.7.7"
  }
 },
 "nbformat": 4,
 "nbformat_minor": 4
}
